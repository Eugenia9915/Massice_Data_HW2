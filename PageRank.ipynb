{
 "cells": [
  {
   "attachments": {
    "image.png": {
     "image/png": "[encoded data removed]"
    }
   },
   "cell_type": "markdown",
   "id": "2daea80b",
   "metadata": {},
   "source": [
    "# Report\n",
    "## map 1\n",
    "將i->j變成(i,j)的key value pair，產生以inlink和outlink的兩個方式顯示，以方便判斷至少幾個Node\n",
    "#### format : (i,j)、(i,k)、(j,m)...\n",
    "## reduce 1\n",
    "將兩個RDD 都 groupByKey以得知此Node指向哪幾個Node，以及哪幾個Node指向此Node\n",
    "#### format : (i,(j,k))、(j,(m,))...\n",
    "## compute Node\n",
    "以全部的node的最大值為\"至少\"有幾個Node\n",
    "## map 2\n",
    "產生初始 rank 的 key value pair\n",
    "#### format : (i,1.0/Node)、(j,1.0/Node)...\n",
    "## reduce 2\n",
    "將初始rank與map 1 產生的outlink key value pair合併\n",
    "#### format : (i,((j,k),1.0/Node))、(j,((m,),1.0/Node))...\n",
    "## map 3\n",
    "將一node i的rank均分給它所指到的node，若node i未指到任何node則給的值為0\n",
    "#### format : (j,beta*ri/di) where ri是node i的old rank，di是node i的outlink數，beta=0.8、(n,0)...\n",
    "## reduce 3\n",
    "用reduceByKey計算出![image.png](attachment:image.png)\n",
    "#### format : (i,ri')、(j,rj')...\n",
    "## compute S\n",
    "計算 ![image.png](attachment:image.png)的sum\n",
    "## map 4\n",
    "產生 (1-S)/Node 的 key pair value\n",
    "#### format : (i,(1-S)/Node)、(j,(1-S)/Node)...\n",
    "## reduce 4\n",
    "與reduce 3的結果合併再將它們加起來產生新rank\n",
    "#### format : (i,(ri',(1-S)/Node))、(j,(rj',(1-S)/Node))... => (i,ri)、(j,rj)... where ri = ri'+ (1-S)/Node\n",
    "### 接著回到 reduce 2 共做 20 個iterations，做完後根據rank的值做排序再output到file"
   ]
  },
  {
   "cell_type": "code",
   "execution_count": 1,
   "id": "9a20b2e2",
   "metadata": {},
   "outputs": [],
   "source": [
    "from pyspark import SparkConf, SparkContext\n",
    "from operator import add"
   ]
  },
  {
   "cell_type": "code",
   "execution_count": 2,
   "id": "989aecfb",
   "metadata": {},
   "outputs": [],
   "source": [
    "sc.stop()"
   ]
  },
  {
   "cell_type": "code",
   "execution_count": 3,
   "id": "16ed4c9b",
   "metadata": {},
   "outputs": [],
   "source": [
    "conf = SparkConf().setMaster(\"local\").setAppName(\"HW2\")\n",
    "sc = SparkContext(conf=conf)\n",
    "lines = sc.textFile(\"input.txt\")"
   ]
  },
  {
   "cell_type": "code",
   "execution_count": 4,
   "id": "23faa26a",
   "metadata": {},
   "outputs": [],
   "source": [
    "def mapper1(line):\n",
    "    tmp = line.split(\"\\t\")\n",
    "    edgelist = []\n",
    "    edgelist.append((int(tmp[0]),int(tmp[1])))\n",
    "    return edgelist\n",
    "def mapper2(line):\n",
    "    tmp = line.split(\"\\t\")\n",
    "    edgelist = []\n",
    "    edgelist.append((int(tmp[1]),int(tmp[0])))\n",
    "    return edgelist   "
   ]
  },
  {
   "cell_type": "code",
   "execution_count": 5,
   "id": "510e6ddc",
   "metadata": {},
   "outputs": [],
   "source": [
    "# map 1 & reduce 1\n",
    "edge_outlink = lines.flatMap(mapper1).groupByKey().mapValues(tuple)\n",
    "edge_inlink = lines.flatMap(mapper2).groupByKey().mapValues(tuple)"
   ]
  },
  {
   "cell_type": "code",
   "execution_count": 6,
   "id": "c6cb1ee2",
   "metadata": {},
   "outputs": [
    {
     "data": {
      "text/plain": [
       "10878"
      ]
     },
     "execution_count": 6,
     "metadata": {},
     "output_type": "execute_result"
    }
   ],
   "source": [
    "#compute Node\n",
    "Node = max(int(edge_outlink.max()[0]),int(edge_inlink.max()[0]))\n",
    "Node"
   ]
  },
  {
   "cell_type": "code",
   "execution_count": 7,
   "id": "5d7e3fb3",
   "metadata": {},
   "outputs": [],
   "source": [
    "beta = 0.8\n",
    "iteration = 20"
   ]
  },
  {
   "cell_type": "code",
   "execution_count": 8,
   "id": "119423d2",
   "metadata": {},
   "outputs": [],
   "source": [
    "# map 2\n",
    "rank = sc.parallelize(range(1,Node+1)).map(lambda x: (x,1.0/Node))"
   ]
  },
  {
   "cell_type": "code",
   "execution_count": 9,
   "id": "eeb91c12",
   "metadata": {},
   "outputs": [],
   "source": [
    "def mapper3(line):\n",
    "    l = []\n",
    "    for i in range(1,Node+1):\n",
    "        if i in line[1][0]:\n",
    "            l.append((i,beta*line[1][1]/len(line[1][0])))\n",
    "        else:\n",
    "            l.append((i,0))\n",
    "    return l;"
   ]
  },
  {
   "cell_type": "code",
   "execution_count": 10,
   "id": "d08fc9ab",
   "metadata": {
    "scrolled": true
   },
   "outputs": [],
   "source": [
    "for i in range(iteration):\n",
    "    # reduce 2\n",
    "    com = edge_outlink.join(rank)\n",
    "    # map 3 & reduce 3\n",
    "    t = com.flatMap(mapper3).reduceByKey(lambda x,y:x+y)\n",
    "    # compute S\n",
    "    S = t.map(lambda x: x[1]).reduce(add)\n",
    "    # map 4 & reduce 4\n",
    "    rank = sc.parallelize(range(1,Node+1)).map(lambda x: (x,(1-S)/Node)).join(t).map(lambda x: (x[0],x[1][0]+x[1][1]))"
   ]
  },
  {
   "cell_type": "code",
   "execution_count": 11,
   "id": "cebf472b",
   "metadata": {},
   "outputs": [],
   "source": [
    "output = rank.sortBy(lambda x:x[1], ascending=False).collect()"
   ]
  },
  {
   "cell_type": "code",
   "execution_count": 15,
   "id": "96d433ad",
   "metadata": {},
   "outputs": [],
   "source": [
    "if len(output) < 10:\n",
    "    size = len(output)\n",
    "else:\n",
    "    size = 10\n",
    "f = open('Outputfile.txt','w')\n",
    "for i in range (size):\n",
    "    t = output[i][1]\n",
    "    cnt = 0\n",
    "    while (int(t)%10==0):\n",
    "        t *= 10\n",
    "        cnt += 1\n",
    "    cnt += 2\n",
    "    f.write(str(output[i][0])+'\\t'+str(round(output[i][1],cnt))+'\\n')\n",
    "f.close()"
   ]
  },
  {
   "cell_type": "code",
   "execution_count": null,
   "id": "be25ba56",
   "metadata": {},
   "outputs": [],
   "source": []
  }
 ],
 "metadata": {
  "kernelspec": {
   "display_name": "Python 3",
   "language": "python",
   "name": "python3"
  },
  "language_info": {
   "codemirror_mode": {
    "name": "ipython",
    "version": 3
   },
   "file_extension": ".py",
   "mimetype": "text/x-python",
   "name": "python",
   "nbconvert_exporter": "python",
   "pygments_lexer": "ipython3",
   "version": "3.6.8"
  }
 },
 "nbformat": 4,
 "nbformat_minor": 5
}
